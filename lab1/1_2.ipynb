{
  "nbformat": 4,
  "nbformat_minor": 0,
  "metadata": {
    "colab": {
      "name": "1_2.ipynb",
      "provenance": []
    },
    "kernelspec": {
      "name": "python3",
      "display_name": "Python 3"
    }
  },
  "cells": [
    {
      "cell_type": "code",
      "metadata": {
        "id": "b1BAj5C6dz7g",
        "colab_type": "code",
        "colab": {}
      },
      "source": [
        "from zlib import crc32\n",
        "import numpy as np\n",
        "\n",
        "if __name__=='__main__':\n",
        "    mail = input('enter phystech e-mail\\n') \n",
        "    to_hash =  mail.strip().split('@')[0]    \n",
        "    h = crc32(to_hash.encode('utf-8'))\n",
        "    seed = h%(2**32-1)\n",
        "    rs = np.random.RandomState(seed)\n",
        "    task1 = rs.randint(low=1, high=5)\n",
        "    task2 = rs.randint(low=1, high=5)\n",
        "    task3 = rs.randint(low=1, high=5)\n",
        "    task4 = rs.randint(low=1, high=4)\n",
        "    print ('Your tasks are 1.{}, 2.{}, 3.{}, 4.{}'.format(task1, task2, task3, task4))"
      ],
      "execution_count": null,
      "outputs": []
    },
    {
      "cell_type": "markdown",
      "metadata": {
        "id": "2zr3z1E6eFRU",
        "colab_type": "text"
      },
      "source": [
        "Задача 1.2\n",
        "\n",
        "Выборка: Ирисы Фишера.\n",
        "\n",
        "Задана выборка описаний 150 экземпляров ириса разных видов. Описание каждого ириса состоит из четырех признаков:\n",
        "\n",
        "Длина наружной доли околоцветника (англ. sepal length);\n",
        "Ширина наружной доли околоцветника (англ. sepal width);\n",
        "Длина внутренней доли околоцветника (англ. petal length);\n",
        "Ширина внутренней доли околоцветника (англ. petal width).\n",
        "Требуется определить насколько в среднем различается каждая из этих характеристик между разными видами.\n",
        "\n",
        "Для каждой из данных характеристик выбрать подходящий размер эффекта из https://en.wikipedia.org/wiki/Effect_size#Types.\n",
        "\n",
        "Посчитать соответствующее значение."
      ]
    },
    {
      "cell_type": "code",
      "metadata": {
        "id": "QHBPfxzneCjp",
        "colab_type": "code",
        "colab": {}
      },
      "source": [
        "from sklearn.datasets import load_iris\n",
        "import pandas as pd\n",
        "import numpy as np\n",
        "import seaborn as sns"
      ],
      "execution_count": null,
      "outputs": []
    },
    {
      "cell_type": "code",
      "metadata": {
        "id": "xmJs9HDJfx_-",
        "colab_type": "code",
        "colab": {}
      },
      "source": [
        "dataset = load_iris()\n",
        "data = pd.DataFrame(dataset['data'], columns = ['Sepal Length', 'Sepal Width', 'Petal length', 'Petal Width'])\n",
        "data['Species'] = dataset['target']\n",
        "data['Species'] = data['Species'].apply(lambda x: dataset['target_names'][x])"
      ],
      "execution_count": null,
      "outputs": []
    },
    {
      "cell_type": "code",
      "metadata": {
        "id": "bzG5QNcugKHw",
        "colab_type": "code",
        "colab": {
          "base_uri": "https://localhost:8080/",
          "height": 204
        },
        "outputId": "3a0b0fbd-0272-433c-a285-04f4abcf6ff7"
      },
      "source": [
        "data.head()"
      ],
      "execution_count": null,
      "outputs": [
        {
          "output_type": "execute_result",
          "data": {
            "text/html": [
              "<div>\n",
              "<style scoped>\n",
              "    .dataframe tbody tr th:only-of-type {\n",
              "        vertical-align: middle;\n",
              "    }\n",
              "\n",
              "    .dataframe tbody tr th {\n",
              "        vertical-align: top;\n",
              "    }\n",
              "\n",
              "    .dataframe thead th {\n",
              "        text-align: right;\n",
              "    }\n",
              "</style>\n",
              "<table border=\"1\" class=\"dataframe\">\n",
              "  <thead>\n",
              "    <tr style=\"text-align: right;\">\n",
              "      <th></th>\n",
              "      <th>Sepal Length</th>\n",
              "      <th>Sepal Width</th>\n",
              "      <th>Petal length</th>\n",
              "      <th>Petal Width</th>\n",
              "      <th>Species</th>\n",
              "    </tr>\n",
              "  </thead>\n",
              "  <tbody>\n",
              "    <tr>\n",
              "      <th>0</th>\n",
              "      <td>5.1</td>\n",
              "      <td>3.5</td>\n",
              "      <td>1.4</td>\n",
              "      <td>0.2</td>\n",
              "      <td>setosa</td>\n",
              "    </tr>\n",
              "    <tr>\n",
              "      <th>1</th>\n",
              "      <td>4.9</td>\n",
              "      <td>3.0</td>\n",
              "      <td>1.4</td>\n",
              "      <td>0.2</td>\n",
              "      <td>setosa</td>\n",
              "    </tr>\n",
              "    <tr>\n",
              "      <th>2</th>\n",
              "      <td>4.7</td>\n",
              "      <td>3.2</td>\n",
              "      <td>1.3</td>\n",
              "      <td>0.2</td>\n",
              "      <td>setosa</td>\n",
              "    </tr>\n",
              "    <tr>\n",
              "      <th>3</th>\n",
              "      <td>4.6</td>\n",
              "      <td>3.1</td>\n",
              "      <td>1.5</td>\n",
              "      <td>0.2</td>\n",
              "      <td>setosa</td>\n",
              "    </tr>\n",
              "    <tr>\n",
              "      <th>4</th>\n",
              "      <td>5.0</td>\n",
              "      <td>3.6</td>\n",
              "      <td>1.4</td>\n",
              "      <td>0.2</td>\n",
              "      <td>setosa</td>\n",
              "    </tr>\n",
              "  </tbody>\n",
              "</table>\n",
              "</div>"
            ],
            "text/plain": [
              "   Sepal Length  Sepal Width  Petal length  Petal Width Species\n",
              "0           5.1          3.5           1.4          0.2  setosa\n",
              "1           4.9          3.0           1.4          0.2  setosa\n",
              "2           4.7          3.2           1.3          0.2  setosa\n",
              "3           4.6          3.1           1.5          0.2  setosa\n",
              "4           5.0          3.6           1.4          0.2  setosa"
            ]
          },
          "metadata": {
            "tags": []
          },
          "execution_count": 34
        }
      ]
    },
    {
      "cell_type": "code",
      "metadata": {
        "id": "PryPGVCKj-1o",
        "colab_type": "code",
        "colab": {
          "base_uri": "https://localhost:8080/",
          "height": 34
        },
        "outputId": "deac67ab-afc4-45a8-ab0e-42e86321e624"
      },
      "source": [
        "data.shape"
      ],
      "execution_count": null,
      "outputs": [
        {
          "output_type": "execute_result",
          "data": {
            "text/plain": [
              "(150, 5)"
            ]
          },
          "metadata": {
            "tags": []
          },
          "execution_count": 28
        }
      ]
    },
    {
      "cell_type": "code",
      "metadata": {
        "id": "NZQu_OWbkIsw",
        "colab_type": "code",
        "colab": {
          "base_uri": "https://localhost:8080/",
          "height": 297
        },
        "outputId": "1a09770c-75ef-4455-a2e5-e119998017e6"
      },
      "source": [
        "data.describe()"
      ],
      "execution_count": null,
      "outputs": [
        {
          "output_type": "execute_result",
          "data": {
            "text/html": [
              "<div>\n",
              "<style scoped>\n",
              "    .dataframe tbody tr th:only-of-type {\n",
              "        vertical-align: middle;\n",
              "    }\n",
              "\n",
              "    .dataframe tbody tr th {\n",
              "        vertical-align: top;\n",
              "    }\n",
              "\n",
              "    .dataframe thead th {\n",
              "        text-align: right;\n",
              "    }\n",
              "</style>\n",
              "<table border=\"1\" class=\"dataframe\">\n",
              "  <thead>\n",
              "    <tr style=\"text-align: right;\">\n",
              "      <th></th>\n",
              "      <th>Sepal Length</th>\n",
              "      <th>Sepal Width</th>\n",
              "      <th>Petal length</th>\n",
              "      <th>Petal Width</th>\n",
              "    </tr>\n",
              "  </thead>\n",
              "  <tbody>\n",
              "    <tr>\n",
              "      <th>count</th>\n",
              "      <td>150.000000</td>\n",
              "      <td>150.000000</td>\n",
              "      <td>150.000000</td>\n",
              "      <td>150.000000</td>\n",
              "    </tr>\n",
              "    <tr>\n",
              "      <th>mean</th>\n",
              "      <td>5.843333</td>\n",
              "      <td>3.057333</td>\n",
              "      <td>3.758000</td>\n",
              "      <td>1.199333</td>\n",
              "    </tr>\n",
              "    <tr>\n",
              "      <th>std</th>\n",
              "      <td>0.828066</td>\n",
              "      <td>0.435866</td>\n",
              "      <td>1.765298</td>\n",
              "      <td>0.762238</td>\n",
              "    </tr>\n",
              "    <tr>\n",
              "      <th>min</th>\n",
              "      <td>4.300000</td>\n",
              "      <td>2.000000</td>\n",
              "      <td>1.000000</td>\n",
              "      <td>0.100000</td>\n",
              "    </tr>\n",
              "    <tr>\n",
              "      <th>25%</th>\n",
              "      <td>5.100000</td>\n",
              "      <td>2.800000</td>\n",
              "      <td>1.600000</td>\n",
              "      <td>0.300000</td>\n",
              "    </tr>\n",
              "    <tr>\n",
              "      <th>50%</th>\n",
              "      <td>5.800000</td>\n",
              "      <td>3.000000</td>\n",
              "      <td>4.350000</td>\n",
              "      <td>1.300000</td>\n",
              "    </tr>\n",
              "    <tr>\n",
              "      <th>75%</th>\n",
              "      <td>6.400000</td>\n",
              "      <td>3.300000</td>\n",
              "      <td>5.100000</td>\n",
              "      <td>1.800000</td>\n",
              "    </tr>\n",
              "    <tr>\n",
              "      <th>max</th>\n",
              "      <td>7.900000</td>\n",
              "      <td>4.400000</td>\n",
              "      <td>6.900000</td>\n",
              "      <td>2.500000</td>\n",
              "    </tr>\n",
              "  </tbody>\n",
              "</table>\n",
              "</div>"
            ],
            "text/plain": [
              "       Sepal Length  Sepal Width  Petal length  Petal Width\n",
              "count    150.000000   150.000000    150.000000   150.000000\n",
              "mean       5.843333     3.057333      3.758000     1.199333\n",
              "std        0.828066     0.435866      1.765298     0.762238\n",
              "min        4.300000     2.000000      1.000000     0.100000\n",
              "25%        5.100000     2.800000      1.600000     0.300000\n",
              "50%        5.800000     3.000000      4.350000     1.300000\n",
              "75%        6.400000     3.300000      5.100000     1.800000\n",
              "max        7.900000     4.400000      6.900000     2.500000"
            ]
          },
          "metadata": {
            "tags": []
          },
          "execution_count": 35
        }
      ]
    },
    {
      "cell_type": "markdown",
      "metadata": {
        "id": "eGieBT_J1X-Z",
        "colab_type": "text"
      },
      "source": [
        "Найдем корреляцию методом Пирсона\n",
        "\n"
      ]
    },
    {
      "cell_type": "code",
      "metadata": {
        "id": "WC49ScK6kzcy",
        "colab_type": "code",
        "colab": {
          "base_uri": "https://localhost:8080/",
          "height": 173
        },
        "outputId": "95abe8c2-8fd3-4ac2-b29a-94c6b7b27e4d"
      },
      "source": [
        "corr = data.corr(method ='pearson')\n",
        "round(corr,3)"
      ],
      "execution_count": null,
      "outputs": [
        {
          "output_type": "execute_result",
          "data": {
            "text/html": [
              "<div>\n",
              "<style scoped>\n",
              "    .dataframe tbody tr th:only-of-type {\n",
              "        vertical-align: middle;\n",
              "    }\n",
              "\n",
              "    .dataframe tbody tr th {\n",
              "        vertical-align: top;\n",
              "    }\n",
              "\n",
              "    .dataframe thead th {\n",
              "        text-align: right;\n",
              "    }\n",
              "</style>\n",
              "<table border=\"1\" class=\"dataframe\">\n",
              "  <thead>\n",
              "    <tr style=\"text-align: right;\">\n",
              "      <th></th>\n",
              "      <th>Sepal Length</th>\n",
              "      <th>Sepal Width</th>\n",
              "      <th>Petal length</th>\n",
              "      <th>Petal Width</th>\n",
              "    </tr>\n",
              "  </thead>\n",
              "  <tbody>\n",
              "    <tr>\n",
              "      <th>Sepal Length</th>\n",
              "      <td>1.000</td>\n",
              "      <td>-0.118</td>\n",
              "      <td>0.872</td>\n",
              "      <td>0.818</td>\n",
              "    </tr>\n",
              "    <tr>\n",
              "      <th>Sepal Width</th>\n",
              "      <td>-0.118</td>\n",
              "      <td>1.000</td>\n",
              "      <td>-0.428</td>\n",
              "      <td>-0.366</td>\n",
              "    </tr>\n",
              "    <tr>\n",
              "      <th>Petal length</th>\n",
              "      <td>0.872</td>\n",
              "      <td>-0.428</td>\n",
              "      <td>1.000</td>\n",
              "      <td>0.963</td>\n",
              "    </tr>\n",
              "    <tr>\n",
              "      <th>Petal Width</th>\n",
              "      <td>0.818</td>\n",
              "      <td>-0.366</td>\n",
              "      <td>0.963</td>\n",
              "      <td>1.000</td>\n",
              "    </tr>\n",
              "  </tbody>\n",
              "</table>\n",
              "</div>"
            ],
            "text/plain": [
              "              Sepal Length  Sepal Width  Petal length  Petal Width\n",
              "Sepal Length         1.000       -0.118         0.872        0.818\n",
              "Sepal Width         -0.118        1.000        -0.428       -0.366\n",
              "Petal length         0.872       -0.428         1.000        0.963\n",
              "Petal Width          0.818       -0.366         0.963        1.000"
            ]
          },
          "metadata": {
            "tags": []
          },
          "execution_count": 36
        }
      ]
    },
    {
      "cell_type": "markdown",
      "metadata": {
        "id": "K7JFOYhwhk_T",
        "colab_type": "text"
      },
      "source": [
        "Построим график зависимости между признаками\n"
      ]
    },
    {
      "cell_type": "code",
      "metadata": {
        "id": "tjf3cQGSd5HM",
        "colab_type": "code",
        "colab": {
          "base_uri": "https://localhost:8080/",
          "height": 1000
        },
        "outputId": "704bc4f4-366d-4132-f5aa-98ddb126f1d3"
      },
      "source": [
        "from pandas.plotting import scatter_matrix\n",
        "from numpy import array\n",
        "\n",
        "colors = array(50*['r'] + 50*['g'] + 50*['b'])\n",
        "scatter_matrix(data, alpha = 0.2, figsize = (10,10), color = colors)"
      ],
      "execution_count": null,
      "outputs": [
        {
          "output_type": "stream",
          "text": [
            "/usr/local/lib/python3.6/dist-packages/pandas/plotting/_matplotlib/tools.py:307: MatplotlibDeprecationWarning: \n",
            "The rowNum attribute was deprecated in Matplotlib 3.2 and will be removed two minor releases later. Use ax.get_subplotspec().rowspan.start instead.\n",
            "  layout[ax.rowNum, ax.colNum] = ax.get_visible()\n",
            "/usr/local/lib/python3.6/dist-packages/pandas/plotting/_matplotlib/tools.py:307: MatplotlibDeprecationWarning: \n",
            "The colNum attribute was deprecated in Matplotlib 3.2 and will be removed two minor releases later. Use ax.get_subplotspec().colspan.start instead.\n",
            "  layout[ax.rowNum, ax.colNum] = ax.get_visible()\n",
            "/usr/local/lib/python3.6/dist-packages/pandas/plotting/_matplotlib/tools.py:313: MatplotlibDeprecationWarning: \n",
            "The rowNum attribute was deprecated in Matplotlib 3.2 and will be removed two minor releases later. Use ax.get_subplotspec().rowspan.start instead.\n",
            "  if not layout[ax.rowNum + 1, ax.colNum]:\n",
            "/usr/local/lib/python3.6/dist-packages/pandas/plotting/_matplotlib/tools.py:313: MatplotlibDeprecationWarning: \n",
            "The colNum attribute was deprecated in Matplotlib 3.2 and will be removed two minor releases later. Use ax.get_subplotspec().colspan.start instead.\n",
            "  if not layout[ax.rowNum + 1, ax.colNum]:\n"
          ],
          "name": "stderr"
        },
        {
          "output_type": "execute_result",
          "data": {
            "text/plain": [
              "array([[<matplotlib.axes._subplots.AxesSubplot object at 0x7fa6ae25bd68>,\n",
              "        <matplotlib.axes._subplots.AxesSubplot object at 0x7fa6ae214b38>,\n",
              "        <matplotlib.axes._subplots.AxesSubplot object at 0x7fa6ae247ef0>,\n",
              "        <matplotlib.axes._subplots.AxesSubplot object at 0x7fa6ae206278>],\n",
              "       [<matplotlib.axes._subplots.AxesSubplot object at 0x7fa6ae1b65f8>,\n",
              "        <matplotlib.axes._subplots.AxesSubplot object at 0x7fa6ae167978>,\n",
              "        <matplotlib.axes._subplots.AxesSubplot object at 0x7fa6ae119cf8>,\n",
              "        <matplotlib.axes._subplots.AxesSubplot object at 0x7fa6ae0d8080>],\n",
              "       [<matplotlib.axes._subplots.AxesSubplot object at 0x7fa6ae0d80f0>,\n",
              "        <matplotlib.axes._subplots.AxesSubplot object at 0x7fa6ae0bc7b8>,\n",
              "        <matplotlib.axes._subplots.AxesSubplot object at 0x7fa6ae06fb38>,\n",
              "        <matplotlib.axes._subplots.AxesSubplot object at 0x7fa6ae020eb8>],\n",
              "       [<matplotlib.axes._subplots.AxesSubplot object at 0x7fa6adfe1278>,\n",
              "        <matplotlib.axes._subplots.AxesSubplot object at 0x7fa6adf935f8>,\n",
              "        <matplotlib.axes._subplots.AxesSubplot object at 0x7fa6adfc3978>,\n",
              "        <matplotlib.axes._subplots.AxesSubplot object at 0x7fa6adf77cf8>]],\n",
              "      dtype=object)"
            ]
          },
          "metadata": {
            "tags": []
          },
          "execution_count": 37
        },
        {
          "output_type": "display_data",
          "data": {
            "image/png": "[encoded data removed]",
            "text/plain": [
              "<Figure size 720x720 with 16 Axes>"
            ]
          },
          "metadata": {
            "tags": []
          }
        }
      ]
    },
    {
      "cell_type": "markdown",
      "metadata": {
        "id": "2qAN5LTbjWx6",
        "colab_type": "text"
      },
      "source": [
        "Построим карту зависимости признаков"
      ]
    },
    {
      "cell_type": "code",
      "metadata": {
        "id": "87qUG1lCiK-E",
        "colab_type": "code",
        "colab": {
          "base_uri": "https://localhost:8080/",
          "height": 321
        },
        "outputId": "bcf7a24b-93ac-4dac-edc8-6a5b04e75589"
      },
      "source": [
        "mask = np.zeros_like(corr)\n",
        "mask[np.triu_indices_from(mask)] = True\n",
        "with sns.axes_style(\"white\"):\n",
        "    ax = sns.heatmap(corr, mask=mask, square=True, cbar=False, annot=True, linewidths=.5)"
      ],
      "execution_count": null,
      "outputs": [
        {
          "output_type": "display_data",
          "data": {
            "image/png": "[encoded data removed]",
            "text/plain": [
              "<Figure size 432x288 with 1 Axes>"
            ]
          },
          "metadata": {
            "tags": []
          }
        }
      ]
    },
    {
      "cell_type": "markdown",
      "metadata": {
        "id": "TizUmuJhjecB",
        "colab_type": "text"
      },
      "source": [
        "Значения коэффициента корреляции:\n",
        "\n",
        "\n",
        "*   меньше 0.5 - слабая\n",
        "*   [0.5, 0.7] - средняя\n",
        "*   больше 0.7 - высокая\n",
        "*   больше 0.9 - очень высокая\n",
        "\n",
        "Видим, что между Petal Length и Petal Width очень сильная зависимость."
      ]
    },
    {
      "cell_type": "markdown",
      "metadata": {
        "id": "F5MW4cj5nifq",
        "colab_type": "text"
      },
      "source": [
        "Посчитаем стандартное отклонение и среднее значение признаков"
      ]
    },
    {
      "cell_type": "code",
      "metadata": {
        "id": "QdbxZ5KHi2O5",
        "colab_type": "code",
        "colab": {}
      },
      "source": [
        "setosa = data[data['Species'] == 'setosa']\n",
        "versicolor = data[data['Species'] == 'versicolor']\n",
        "virginica = data[data['Species'] == 'virginica']"
      ],
      "execution_count": null,
      "outputs": []
    },
    {
      "cell_type": "code",
      "metadata": {
        "id": "NjXil7Wgi2El",
        "colab_type": "code",
        "colab": {
          "base_uri": "https://localhost:8080/",
          "height": 272
        },
        "outputId": "d5f3876d-584b-4813-e92b-c5430491373b"
      },
      "source": [
        "setosa1 = np.mean(setosa)\n",
        "versicolor1 = np.mean(versicolor)\n",
        "virginica1 = np.mean(virginica)\n",
        "print(setosa1)\n",
        "print(versicolor1)\n",
        "print(virginica1)"
      ],
      "execution_count": null,
      "outputs": [
        {
          "output_type": "stream",
          "text": [
            "Sepal Length    5.006\n",
            "Sepal Width     3.428\n",
            "Petal length    1.462\n",
            "Petal Width     0.246\n",
            "dtype: float64\n",
            "Sepal Length    5.936\n",
            "Sepal Width     2.770\n",
            "Petal length    4.260\n",
            "Petal Width     1.326\n",
            "dtype: float64\n",
            "Sepal Length    6.588\n",
            "Sepal Width     2.974\n",
            "Petal length    5.552\n",
            "Petal Width     2.026\n",
            "dtype: float64\n"
          ],
          "name": "stdout"
        }
      ]
    },
    {
      "cell_type": "code",
      "metadata": {
        "id": "rODSNzsUo4dV",
        "colab_type": "code",
        "colab": {
          "base_uri": "https://localhost:8080/",
          "height": 272
        },
        "outputId": "33dda02a-d9b1-43b1-9c9a-c92c1d4319b0"
      },
      "source": [
        "setosa2 = np.std(setosa)\n",
        "versicolor2 = np.std(versicolor)\n",
        "virginica2 = np.std(virginica)\n",
        "print(setosa2)\n",
        "print(versicolor2)\n",
        "print(virginica2)"
      ],
      "execution_count": null,
      "outputs": [
        {
          "output_type": "stream",
          "text": [
            "Sepal Length    0.348947\n",
            "Sepal Width     0.375255\n",
            "Petal length    0.171919\n",
            "Petal Width     0.104326\n",
            "dtype: float64\n",
            "Sepal Length    0.510983\n",
            "Sepal Width     0.310644\n",
            "Petal length    0.465188\n",
            "Petal Width     0.195765\n",
            "dtype: float64\n",
            "Sepal Length    0.629489\n",
            "Sepal Width     0.319255\n",
            "Petal length    0.546348\n",
            "Petal Width     0.271890\n",
            "dtype: float64\n"
          ],
          "name": "stdout"
        }
      ]
    },
    {
      "cell_type": "code",
      "metadata": {
        "id": "hOx4F8KJqZys",
        "colab_type": "code",
        "colab": {}
      },
      "source": [
        "def cohend(x, y):\n",
        "    s1 = np.std(x, ddof=1)\n",
        "    s2 = np.std(y, ddof=1)\n",
        "    s = np.sqrt(((len(x)-1)*s1**2 + (len(y)-1)*s2**2) / (len(x) + len(y) - 2))\n",
        "    d = (np.mean(x) - np.mean(y)) / s\n",
        "    return d"
      ],
      "execution_count": null,
      "outputs": []
    },
    {
      "cell_type": "code",
      "metadata": {
        "id": "hx0ABfuMrLdz",
        "colab_type": "code",
        "colab": {
          "base_uri": "https://localhost:8080/",
          "height": 102
        },
        "outputId": "1c67ae11-bd30-4aef-97ff-690ac782c010"
      },
      "source": [
        "cohend(setosa, versicolor)"
      ],
      "execution_count": null,
      "outputs": [
        {
          "output_type": "execute_result",
          "data": {
            "text/plain": [
              "Sepal Length    1.125833\n",
              "Sepal Width     0.641152\n",
              "Petal length    2.520756\n",
              "Petal Width     2.925073\n",
              "dtype: float64"
            ]
          },
          "metadata": {
            "tags": []
          },
          "execution_count": 74
        }
      ]
    },
    {
      "cell_type": "code",
      "metadata": {
        "id": "v1vRaL_Utisg",
        "colab_type": "code",
        "colab": {
          "base_uri": "https://localhost:8080/",
          "height": 102
        },
        "outputId": "8ac636be-1191-4f7e-b443-1628ac53ab24"
      },
      "source": [
        "cohend(virginica, setosa)"
      ],
      "execution_count": null,
      "outputs": [
        {
          "output_type": "execute_result",
          "data": {
            "text/plain": [
              "Sepal Length    3.077239\n",
              "Sepal Width    -1.290070\n",
              "Petal length    9.997237\n",
              "Petal Width     8.557160\n",
              "dtype: float64"
            ]
          },
          "metadata": {
            "tags": []
          },
          "execution_count": 81
        }
      ]
    },
    {
      "cell_type": "code",
      "metadata": {
        "id": "FHMKmd1Tui5e",
        "colab_type": "code",
        "colab": {
          "base_uri": "https://localhost:8080/",
          "height": 102
        },
        "outputId": "c76948d1-559c-492e-b12f-dbdca4ef2966"
      },
      "source": [
        "cohend(virginica, versicolor)"
      ],
      "execution_count": null,
      "outputs": [
        {
          "output_type": "execute_result",
          "data": {
            "text/plain": [
              "Sepal Length    1.125833\n",
              "Sepal Width     0.641152\n",
              "Petal length    2.520756\n",
              "Petal Width     2.925073\n",
              "dtype: float64"
            ]
          },
          "metadata": {
            "tags": []
          },
          "execution_count": 83
        }
      ]
    },
    {
      "cell_type": "markdown",
      "metadata": {
        "id": "oItYKLk4utZv",
        "colab_type": "text"
      },
      "source": [
        "Из таблицы https://en.wikipedia.org/wiki/Effect_size#Types effect size :\n",
        "\n",
        "*   меньше 0.2 - маленький\n",
        "*   до 0.5 - средний\n",
        "*   до 0.8 - большой\n",
        "*   больше 1.2 - очень большой\n",
        "\n",
        "Видим, что в большинстве случаев effect size больше 1.2. Значит, между признаками большие различия. \n",
        "\n"
      ]
    }
  ]
}