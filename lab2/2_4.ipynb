{
  "nbformat": 4,
  "nbformat_minor": 0,
  "metadata": {
    "colab": {
      "name": "2_4.ipynb",
      "provenance": []
    },
    "kernelspec": {
      "name": "python3",
      "display_name": "Python 3"
    }
  },
  "cells": [
    {
      "cell_type": "markdown",
      "metadata": {
        "id": "yzDCfxiBwFer",
        "colab_type": "text"
      },
      "source": [
        "##2.4\n",
        "\n",
        "В городе Н. правительство решило начать борьбу с превышениями скорости автомобилей. Для выбора стратегии борьбы оно сначала решило провести исследования касательно того, влияет ли используемый водителем автомобиль на среднюю скорость передвижения.\n",
        "\n",
        "Для этого было сформировано 3 выборки по 20 человек, в каждой из которой людям выдали одинаковые автомобили марок Mitsubishi, Audi и BMW, соответственно. В течение месяца замерялась средняя скорость каждого из автомобилей (см. файл).\n",
        "\n",
        "Каждая из пар групп была проверена двувыборочным критерием на равенство распределений, также была проведена поправка на множественность гипотез.\n",
        "\n",
        "Требуется:\n",
        "\n",
        "* Описать, в чём недостаток подхода правительства.\n",
        "\n",
        "* Предложить метод для более корректного решения задачи.\n",
        "\n",
        "* Записать формальное условие задачи.\n",
        "\n",
        "* Решить задачу аналитически (все аналитические выкладки должны быть описаны)"
      ]
    },
    {
      "cell_type": "code",
      "metadata": {
        "id": "ema59xqSvfln",
        "colab_type": "code",
        "colab": {
          "base_uri": "https://localhost:8080/",
          "height": 228
        },
        "outputId": "23537b7b-f863-49e8-8e7a-14ece1b4184c"
      },
      "source": [
        "!wget \"https://raw.githubusercontent.com/Intelligent-Systems-Phystech/psad-2020/master/lab/lab2/2.4.csv\" -O \"2.4.csv\""
      ],
      "execution_count": null,
      "outputs": [
        {
          "output_type": "stream",
          "text": [
            "--2020-05-16 09:24:09--  https://raw.githubusercontent.com/Intelligent-Systems-Phystech/psad-2020/master/lab/lab2/2.4.csv\n",
            "Resolving raw.githubusercontent.com (raw.githubusercontent.com)... 151.101.0.133, 151.101.64.133, 151.101.128.133, ...\n",
            "Connecting to raw.githubusercontent.com (raw.githubusercontent.com)|151.101.0.133|:443... connected.\n",
            "HTTP request sent, awaiting response... 200 OK\n",
            "Length: 227 [text/plain]\n",
            "Saving to: ‘2.4.csv’\n",
            "\n",
            "\r2.4.csv               0%[                    ]       0  --.-KB/s               \r2.4.csv             100%[===================>]     227  --.-KB/s    in 0s      \n",
            "\n",
            "2020-05-16 09:24:09 (28.4 MB/s) - ‘2.4.csv’ saved [227/227]\n",
            "\n"
          ],
          "name": "stdout"
        }
      ]
    },
    {
      "cell_type": "code",
      "metadata": {
        "id": "Lx9DQlDavxYi",
        "colab_type": "code",
        "colab": {}
      },
      "source": [
        "import pandas as pd\n",
        "\n",
        "df = pd.read_csv('2.4.csv')"
      ],
      "execution_count": null,
      "outputs": []
    },
    {
      "cell_type": "markdown",
      "metadata": {
        "id": "WfISfYX21T87",
        "colab_type": "text"
      },
      "source": [
        "##Визуализация данных по трем компаниям.\n",
        "\n",
        "Возьмем значение превышенной скорости равным больше 80 км/ч. Проведем прямую для 80 км/ч, для значений выше нее скорость превышена."
      ]
    },
    {
      "cell_type": "code",
      "metadata": {
        "id": "iZlo8h6TzKIT",
        "colab_type": "code",
        "colab": {
          "base_uri": "https://localhost:8080/",
          "height": 285
        },
        "outputId": "e1065a11-aff9-4f6f-9fb4-aaf70b029940"
      },
      "source": [
        "import matplotlib.pyplot as plt\n",
        "\n",
        "plt.figure()\n",
        "df.plot.bar()\n",
        "plt.axhline(80, color='k')\n",
        "plt.show()"
      ],
      "execution_count": null,
      "outputs": [
        {
          "output_type": "display_data",
          "data": {
            "text/plain": [
              "<Figure size 432x288 with 0 Axes>"
            ]
          },
          "metadata": {
            "tags": []
          }
        },
        {
          "output_type": "display_data",
          "data": {
            "image/png": "[encoded data removed]",
            "text/plain": [
              "<Figure size 432x288 with 1 Axes>"
            ]
          },
          "metadata": {
            "tags": [],
            "needs_background": "light"
          }
        }
      ]
    },
    {
      "cell_type": "markdown",
      "metadata": {
        "id": "c7y1wlpaauud",
        "colab_type": "text"
      },
      "source": [
        "По условию, каждая из пар групп была проверена двувыборочным критерием на равенство распределений. Недостаток подхода правительства в том, что из того, что распределения разные, не обязательно следует то, что марка автомобиля влияет на среднюю скорость движения."
      ]
    },
    {
      "cell_type": "code",
      "metadata": {
        "id": "VLq8KExlauHi",
        "colab_type": "code",
        "colab": {
          "base_uri": "https://localhost:8080/",
          "height": 87
        },
        "outputId": "443ee708-d08f-4802-e4d5-4e733a0b702f"
      },
      "source": [
        "df.mean()"
      ],
      "execution_count": null,
      "outputs": [
        {
          "output_type": "execute_result",
          "data": {
            "text/plain": [
              "mitsubishi    73.40\n",
              "audi          73.15\n",
              "bmw           83.50\n",
              "dtype: float64"
            ]
          },
          "metadata": {
            "tags": []
          },
          "execution_count": 105
        }
      ]
    },
    {
      "cell_type": "markdown",
      "metadata": {
        "id": "Pu4xl_2xfS5k",
        "colab_type": "text"
      },
      "source": [
        "Просто из вычисления средней скорости по таблице, видно, что в среднем на автомобилях BMW ездят со скоростью  83.5 км/ч. Но отсюда не следует, что марка автомобиля на это влияет. Проверим так ли это.\n",
        "\n",
        "Нулевая гипотеза $H_0$: Марка не влияет на среднюю скорость;\n",
        "\n",
        "Альтернатива $H_1$: Марка влияет на среднюю скорость;\n"
      ]
    },
    {
      "cell_type": "markdown",
      "metadata": {
        "id": "oSiaTcKG0OlT",
        "colab_type": "text"
      },
      "source": [
        "##Проведем однофакторный дисперсионный анализ.\n",
        "\n",
        "Его суть состоит в сравнении разброса средних значений сравниваемых выборок с разбросом значений внутри самих выборок.\n",
        "То есть, чем больше отличаются средние арифметические значения сравниваемых выборок, и чем меньше разброс значений внутри выборок, тем выше вероятность различий между ними.\n",
        "\n",
        "Статистику вычисляем по формуле $F = \\frac{S^2_{межгрупповая}}{S^2_{внутригрупповая}}$, где $S^2_{межгрупповая}$ - дисперсия совокупности,\n",
        "оцененная по выборочным средним, $S^2_{внутригрупповая}$ - дисперсия совокупности, оцененная по выборочным дисперсиям.\n",
        "\n",
        "Рассчитаем:\n",
        "\n",
        "* общее среднее = 76.7\n",
        "\n",
        "* среднее по выборкам: \n",
        "\n",
        "mitsubishi = 73.4\n",
        "\n",
        "audi = 73.15\n",
        "\n",
        "bmw = 83.50\n",
        "\n",
        "* Разность между средним каждой группы и общим средним:\n",
        "\n",
        "mitsubishi  = 2.7\n",
        "\n",
        "audi = 2.95\n",
        "\n",
        "bmw = -7.58\n",
        "\n",
        "Квадраты разности равны 7.25, 8.70 и 57.45 соответственно. Умножим полученные значения на\n",
        "количество наблюдений (19) в каждой группе: 137.75, 165.30, 1091.45. Cуммируем полученное: 1394.6. Число степеней свободы для 3-х групп = 2. \n",
        "\n",
        "Отсюда значение межгрупповой дисперсии равно\n",
        "$\\frac{1394.6}{2} = 697.3$\n",
        "\n",
        "Разность каждого отдельного\n",
        "значения в группе от среднего значения по\n",
        "группе представлены в таблице s выше. Сумма квадратов отличия от среднего = 26520.98\n",
        "\n",
        "Число степеней свободы для 57 наблюдейний и 3х групп равно 54. Тогда значение внутригрупповой дисперсии равно $\\frac{26520.98}{54} = 440.8$\n",
        "\n",
        "Вычислим значение F статистики: $\\frac{697.3}{440.8} = 1.58$\n",
        "\n",
        "Вычислим $p-value = 0.2$\n",
        "\n",
        "Сравним таблицное значение F критерия для уровня значимости $\\alpha = 0.05$. Оно примерно равно 3.16. \n",
        "Поэтому, нулевая гипотеза не отвергается и можно сделать вывод, что марка авторобиля существенно не влияет на среднюю скорость.\n",
        "\n",
        "Ниже приведен код для вычислений."
      ]
    },
    {
      "cell_type": "code",
      "metadata": {
        "id": "hX_jKllkE9Wn",
        "colab_type": "code",
        "colab": {}
      },
      "source": [
        "#для удобства\n",
        "data = pd.read_excel(2_4.xlsx)\n",
        "data.groupby('company').mean()"
      ],
      "execution_count": null,
      "outputs": []
    },
    {
      "cell_type": "code",
      "metadata": {
        "id": "uZcXBnvxG7o1",
        "colab_type": "code",
        "colab": {}
      },
      "source": [
        "import statsmodels.api as sm\n",
        "from statsmodels.formula.api import ols\n",
        "import scipy.stats"
      ],
      "execution_count": null,
      "outputs": []
    },
    {
      "cell_type": "code",
      "metadata": {
        "id": "5akNr7QrMY9E",
        "colab_type": "code",
        "colab": {
          "base_uri": "https://localhost:8080/",
          "height": 69
        },
        "outputId": "f1c11564-0ff5-4007-d5bf-5c05f6d392b3"
      },
      "source": [
        "lm = ols('scores ~ company', data = data).fit()\n",
        "table = sm.stats.anova_lm(lm)\n",
        "print(table)"
      ],
      "execution_count": null,
      "outputs": [
        {
          "output_type": "stream",
          "text": [
            "            df        sum_sq     mean_sq         F    PR(>F)\n",
            "company    2.0   1394.633333  697.316667  1.581887  0.214479\n",
            "Residual  57.0  25126.350000  440.813158       NaN       NaN\n"
          ],
          "name": "stdout"
        }
      ]
    },
    {
      "cell_type": "code",
      "metadata": {
        "id": "TZkPqlVtQinP",
        "colab_type": "code",
        "colab": {
          "base_uri": "https://localhost:8080/",
          "height": 35
        },
        "outputId": "d25a4c7d-8583-4332-e5f9-1e41d847030c"
      },
      "source": [
        "overall_mean = data['scores'].mean()\n",
        "overall_mean"
      ],
      "execution_count": null,
      "outputs": [
        {
          "output_type": "execute_result",
          "data": {
            "text/plain": [
              "76.68333333333334"
            ]
          },
          "metadata": {
            "tags": []
          },
          "execution_count": 126
        }
      ]
    },
    {
      "cell_type": "code",
      "metadata": {
        "id": "rXcNXiL5QlQI",
        "colab_type": "code",
        "colab": {
          "base_uri": "https://localhost:8080/",
          "height": 35
        },
        "outputId": "9d808d8a-d430-4868-b12f-8c6abbae763c"
      },
      "source": [
        "data['overall_mean'] = overall_mean\n",
        "ss_total = sum((data['scores'] - data['overall_mean'])**2)\n",
        "ss_total"
      ],
      "execution_count": null,
      "outputs": [
        {
          "output_type": "execute_result",
          "data": {
            "text/plain": [
              "26520.983333333334"
            ]
          },
          "metadata": {
            "tags": []
          },
          "execution_count": 94
        }
      ]
    },
    {
      "cell_type": "code",
      "metadata": {
        "id": "g-YuJuAlS8UW",
        "colab_type": "code",
        "colab": {
          "base_uri": "https://localhost:8080/",
          "height": 171
        },
        "outputId": "fb29fea6-5570-4cc4-f34d-a514b7889b58"
      },
      "source": [
        "group_means = data.groupby('company').mean()\n",
        "group_means = group_means.rename(columns = {'scores': 'group_mean'})\n",
        "group_means"
      ],
      "execution_count": null,
      "outputs": [
        {
          "output_type": "execute_result",
          "data": {
            "text/html": [
              "<div>\n",
              "<style scoped>\n",
              "    .dataframe tbody tr th:only-of-type {\n",
              "        vertical-align: middle;\n",
              "    }\n",
              "\n",
              "    .dataframe tbody tr th {\n",
              "        vertical-align: top;\n",
              "    }\n",
              "\n",
              "    .dataframe thead th {\n",
              "        text-align: right;\n",
              "    }\n",
              "</style>\n",
              "<table border=\"1\" class=\"dataframe\">\n",
              "  <thead>\n",
              "    <tr style=\"text-align: right;\">\n",
              "      <th></th>\n",
              "      <th>group_mean</th>\n",
              "      <th>overall_mean</th>\n",
              "    </tr>\n",
              "    <tr>\n",
              "      <th>company</th>\n",
              "      <th></th>\n",
              "      <th></th>\n",
              "    </tr>\n",
              "  </thead>\n",
              "  <tbody>\n",
              "    <tr>\n",
              "      <th>audi</th>\n",
              "      <td>73.15</td>\n",
              "      <td>76.683333</td>\n",
              "    </tr>\n",
              "    <tr>\n",
              "      <th>bmw</th>\n",
              "      <td>83.50</td>\n",
              "      <td>76.683333</td>\n",
              "    </tr>\n",
              "    <tr>\n",
              "      <th>mitsubishi</th>\n",
              "      <td>73.40</td>\n",
              "      <td>76.683333</td>\n",
              "    </tr>\n",
              "  </tbody>\n",
              "</table>\n",
              "</div>"
            ],
            "text/plain": [
              "            group_mean  overall_mean\n",
              "company                             \n",
              "audi             73.15     76.683333\n",
              "bmw              83.50     76.683333\n",
              "mitsubishi       73.40     76.683333"
            ]
          },
          "metadata": {
            "tags": []
          },
          "execution_count": 89
        }
      ]
    },
    {
      "cell_type": "code",
      "metadata": {
        "id": "SIDilpOQTEya",
        "colab_type": "code",
        "colab": {}
      },
      "source": [
        "data = data.merge(group_means, left_on = 'company', right_index = True)"
      ],
      "execution_count": null,
      "outputs": []
    },
    {
      "cell_type": "code",
      "metadata": {
        "id": "nxVpvDMYTJFj",
        "colab_type": "code",
        "colab": {
          "base_uri": "https://localhost:8080/",
          "height": 35
        },
        "outputId": "184b88a5-766e-4c23-8a47-e83622d73a96"
      },
      "source": [
        "ss_residual = sum((data['scores'] - data['group_mean'])**2)\n",
        "ss_residual"
      ],
      "execution_count": null,
      "outputs": [
        {
          "output_type": "execute_result",
          "data": {
            "text/plain": [
              "25126.350000000002"
            ]
          },
          "metadata": {
            "tags": []
          },
          "execution_count": 91
        }
      ]
    },
    {
      "cell_type": "code",
      "metadata": {
        "id": "eA3ahBCbTL0o",
        "colab_type": "code",
        "colab": {
          "base_uri": "https://localhost:8080/",
          "height": 35
        },
        "outputId": "36922de5-4ac8-4c01-8855-a12c4e8c2ea9"
      },
      "source": [
        "ss_explained = sum((data['overall_mean'] - data['group_mean'])**2)\n",
        "ss_explained"
      ],
      "execution_count": null,
      "outputs": [
        {
          "output_type": "execute_result",
          "data": {
            "text/plain": [
              "1394.6333333333314"
            ]
          },
          "metadata": {
            "tags": []
          },
          "execution_count": 95
        }
      ]
    },
    {
      "cell_type": "code",
      "metadata": {
        "id": "AeqNf-dLTUvJ",
        "colab_type": "code",
        "colab": {
          "base_uri": "https://localhost:8080/",
          "height": 35
        },
        "outputId": "fc6d2dec-72f0-4f7c-faa6-bfb7005880b4"
      },
      "source": [
        "n_groups = len(set(data['company']))\n",
        "n_obs = data.shape[0]\n",
        "df_residual = n_obs - n_groups\n",
        "ms_residual = ss_residual / df_residual\n",
        "ms_residual"
      ],
      "execution_count": null,
      "outputs": [
        {
          "output_type": "execute_result",
          "data": {
            "text/plain": [
              "440.8131578947369"
            ]
          },
          "metadata": {
            "tags": []
          },
          "execution_count": 96
        }
      ]
    },
    {
      "cell_type": "code",
      "metadata": {
        "id": "LLgKrd_ETXlq",
        "colab_type": "code",
        "colab": {
          "base_uri": "https://localhost:8080/",
          "height": 35
        },
        "outputId": "c13c2f20-1599-4aa3-ecd3-80d659903562"
      },
      "source": [
        "df_explained = n_groups - 1\n",
        "ms_explained = ss_explained / df_explained\n",
        "ms_explained"
      ],
      "execution_count": null,
      "outputs": [
        {
          "output_type": "execute_result",
          "data": {
            "text/plain": [
              "697.3166666666657"
            ]
          },
          "metadata": {
            "tags": []
          },
          "execution_count": 97
        }
      ]
    },
    {
      "cell_type": "code",
      "metadata": {
        "id": "sChDPPYtGt8P",
        "colab_type": "code",
        "colab": {
          "base_uri": "https://localhost:8080/",
          "height": 35
        },
        "outputId": "68b996eb-d213-4a3e-f245-b5052b0cc696"
      },
      "source": [
        "F = ms_explained / ms_residual\n",
        "F"
      ],
      "execution_count": null,
      "outputs": [
        {
          "output_type": "execute_result",
          "data": {
            "text/plain": [
              "1.581887142382397"
            ]
          },
          "metadata": {
            "tags": []
          },
          "execution_count": 198
        }
      ]
    },
    {
      "cell_type": "code",
      "metadata": {
        "id": "bb53XOovGwhM",
        "colab_type": "code",
        "colab": {
          "base_uri": "https://localhost:8080/",
          "height": 35
        },
        "outputId": "08bfb42b-3920-4832-e5cf-d9f7415ec0f0"
      },
      "source": [
        "p_value = 1 - scipy.stats.f.cdf(F, df_explained, df_residual)\n",
        "p_value"
      ],
      "execution_count": null,
      "outputs": [
        {
          "output_type": "execute_result",
          "data": {
            "text/plain": [
              "0.2144785173954088"
            ]
          },
          "metadata": {
            "tags": []
          },
          "execution_count": 199
        }
      ]
    }
  ]
}